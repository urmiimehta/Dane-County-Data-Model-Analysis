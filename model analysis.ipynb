{
 "cells": [
  {
   "cell_type": "code",
   "execution_count": 1,
   "id": "40a89dd2",
   "metadata": {},
   "outputs": [
    {
     "ename": "ModuleNotFoundError",
     "evalue": "No module named 'geopandas'",
     "output_type": "error",
     "traceback": [
      "\u001b[1;31m---------------------------------------------------------------------------\u001b[0m",
      "\u001b[1;31mModuleNotFoundError\u001b[0m                       Traceback (most recent call last)",
      "\u001b[1;32m<ipython-input-1-329ac4f137f1>\u001b[0m in \u001b[0;36m<module>\u001b[1;34m\u001b[0m\n\u001b[1;32m----> 1\u001b[1;33m \u001b[1;32mimport\u001b[0m \u001b[0mgeopandas\u001b[0m \u001b[1;32mas\u001b[0m \u001b[0mgpd\u001b[0m\u001b[1;33m\u001b[0m\u001b[1;33m\u001b[0m\u001b[0m\n\u001b[0m\u001b[0;32m      2\u001b[0m \u001b[1;32mimport\u001b[0m \u001b[0msqlite3\u001b[0m\u001b[1;33m\u001b[0m\u001b[1;33m\u001b[0m\u001b[0m\n\u001b[0;32m      3\u001b[0m \u001b[1;32mimport\u001b[0m \u001b[0mpandas\u001b[0m \u001b[1;32mas\u001b[0m \u001b[0mpd\u001b[0m\u001b[1;33m\u001b[0m\u001b[1;33m\u001b[0m\u001b[0m\n\u001b[0;32m      4\u001b[0m \u001b[1;32mfrom\u001b[0m \u001b[0msklearn\u001b[0m\u001b[1;33m.\u001b[0m\u001b[0mmodel_selection\u001b[0m \u001b[1;32mimport\u001b[0m \u001b[0mtrain_test_split\u001b[0m\u001b[1;33m,\u001b[0m \u001b[0mcross_val_score\u001b[0m\u001b[1;33m\u001b[0m\u001b[1;33m\u001b[0m\u001b[0m\n\u001b[0;32m      5\u001b[0m \u001b[1;32mfrom\u001b[0m \u001b[0msklearn\u001b[0m\u001b[1;33m.\u001b[0m\u001b[0mlinear_model\u001b[0m \u001b[1;32mimport\u001b[0m \u001b[0mLinearRegression\u001b[0m\u001b[1;33m\u001b[0m\u001b[1;33m\u001b[0m\u001b[0m\n",
      "\u001b[1;31mModuleNotFoundError\u001b[0m: No module named 'geopandas'"
     ]
    }
   ],
   "source": [
    "import geopandas as gpd\n",
    "import sqlite3\n",
    "import pandas as pd\n",
    "from sklearn.model_selection import train_test_split, cross_val_score\n",
    "from sklearn.linear_model import LinearRegression\n",
    "import numpy as np\n",
    "import rasterio\n",
    "from matplotlib.colors import ListedColormap\n",
    "from rasterio.mask import mask\n",
    "import matplotlib.pyplot as plt"
   ]
  },
  {
   "cell_type": "code",
   "execution_count": 3,
   "id": "dfcb1eab",
   "metadata": {},
   "outputs": [],
   "source": [
    "counties_data = gpd.read_file(\"counties.geojson\")"
   ]
  },
  {
   "cell_type": "code",
   "execution_count": 4,
   "id": "2082f585",
   "metadata": {},
   "outputs": [
    {
     "data": {
      "text/plain": [
       "72"
      ]
     },
     "execution_count": 4,
     "metadata": {},
     "output_type": "execute_result"
    }
   ],
   "source": [
    "len(counties_data)"
   ]
  },
  {
   "cell_type": "code",
   "execution_count": 5,
   "id": "8eca5cf4",
   "metadata": {},
   "outputs": [
    {
     "data": {
      "image/png": "[encoded data removed]",
      "text/plain": [
       "<Figure size 432x288 with 2 Axes>"
      ]
     },
     "metadata": {
      "needs_background": "light"
     },
     "output_type": "display_data"
    }
   ],
   "source": [
    "counties_data.plot(column=counties_data['POP100'], cmap='viridis',legend='True')\n",
    "None"
   ]
  },
  {
   "cell_type": "code",
   "execution_count": 6,
   "id": "09dfc528",
   "metadata": {},
   "outputs": [],
   "source": [
    "conn = sqlite3.connect('counties_tracts.db')"
   ]
  },
  {
   "cell_type": "code",
   "execution_count": 7,
   "id": "9cc4458f",
   "metadata": {},
   "outputs": [],
   "source": [
    "counties = pd.read_sql(\"\"\"SELECT * FROM counties\"\"\", conn)\n",
    "arealand = counties['AREALAND']\n",
    "counties_data = counties_data.assign(AREALAND=arealand)"
   ]
  },
  {
   "cell_type": "code",
   "execution_count": 8,
   "id": "08aa5f20",
   "metadata": {},
   "outputs": [],
   "source": [
    "train, test = train_test_split(counties_data, test_size=0.25, random_state=320)"
   ]
  },
  {
   "cell_type": "code",
   "execution_count": 9,
   "id": "16cbf439",
   "metadata": {},
   "outputs": [
    {
     "data": {
      "text/plain": [
       "['Kewaunee County',\n",
       " 'Calumet County',\n",
       " 'Adams County',\n",
       " 'Eau Claire County',\n",
       " 'Milwaukee County',\n",
       " 'Ashland County',\n",
       " 'Wood County',\n",
       " 'Dodge County',\n",
       " 'Sauk County',\n",
       " 'Clark County',\n",
       " 'Pepin County',\n",
       " 'Taylor County',\n",
       " 'Iron County',\n",
       " 'Outagamie County',\n",
       " 'Florence County',\n",
       " 'Oneida County',\n",
       " 'Pierce County',\n",
       " 'Grant County']"
      ]
     },
     "execution_count": 9,
     "metadata": {},
     "output_type": "execute_result"
    }
   ],
   "source": [
    "test['NAME'].tolist()"
   ]
  },
  {
   "cell_type": "code",
   "execution_count": 10,
   "id": "8ca8fc7c",
   "metadata": {},
   "outputs": [
    {
     "data": {
      "text/plain": [
       "0.022002661530554857"
      ]
     },
     "execution_count": 10,
     "metadata": {},
     "output_type": "execute_result"
    }
   ],
   "source": [
    "model = LinearRegression()\n",
    "model.fit(train[['AREALAND']], train['POP100'])\n",
    "model.score(test[['AREALAND']], test['POP100'])"
   ]
  },
  {
   "cell_type": "code",
   "execution_count": 11,
   "id": "21e9cb69",
   "metadata": {},
   "outputs": [
    {
     "data": {
      "text/plain": [
       "82032.53073541154"
      ]
     },
     "execution_count": 11,
     "metadata": {},
     "output_type": "execute_result"
    }
   ],
   "source": [
    "num = 500 * 2.59 * 1000**2\n",
    "predicted_df = pd.DataFrame({\"AREALAND\": [num]})\n",
    "predicted_df['y_value'] = model.predict(predicted_df)\n",
    "predicted_df['y_value'][0]"
   ]
  },
  {
   "cell_type": "code",
   "execution_count": 12,
   "id": "6c9463fb",
   "metadata": {},
   "outputs": [],
   "source": [
    "tracts = pd.read_sql(\"\"\"SELECT * FROM tracts\"\"\", conn)"
   ]
  },
  {
   "cell_type": "code",
   "execution_count": 13,
   "id": "13c330f5",
   "metadata": {},
   "outputs": [],
   "source": [
    "hu100_data = pd.read_sql(\"\"\"\n",
    "  SELECT counties.NAME, SUM(HU100) AS HU1001\n",
    "  FROM counties INNER JOIN tracts \n",
    "  ON counties.COUNTY = tracts.COUNTY\n",
    "  GROUP BY counties.COUNTY, tracts.COUNTY\n",
    "  \"\"\", conn)"
   ]
  },
  {
   "cell_type": "code",
   "execution_count": 14,
   "id": "c56ab9d1",
   "metadata": {},
   "outputs": [],
   "source": [
    "counties_data = counties_data.merge(hu100_data, on = \"NAME\", how = \"left\")"
   ]
  },
  {
   "cell_type": "code",
   "execution_count": 15,
   "id": "71444271",
   "metadata": {},
   "outputs": [],
   "source": [
    "train, test = train_test_split(counties_data, test_size=0.25, random_state=320)"
   ]
  },
  {
   "cell_type": "code",
   "execution_count": 16,
   "id": "7cf63954",
   "metadata": {},
   "outputs": [
    {
     "data": {
      "text/plain": [
       "['Kewaunee County',\n",
       " 'Calumet County',\n",
       " 'Adams County',\n",
       " 'Eau Claire County',\n",
       " 'Milwaukee County',\n",
       " 'Ashland County',\n",
       " 'Wood County',\n",
       " 'Dodge County',\n",
       " 'Sauk County',\n",
       " 'Clark County',\n",
       " 'Pepin County',\n",
       " 'Taylor County',\n",
       " 'Iron County',\n",
       " 'Outagamie County',\n",
       " 'Florence County',\n",
       " 'Oneida County',\n",
       " 'Pierce County',\n",
       " 'Grant County']"
      ]
     },
     "execution_count": 16,
     "metadata": {},
     "output_type": "execute_result"
    }
   ],
   "source": [
    "test['NAME'].tolist()"
   ]
  },
  {
   "cell_type": "code",
   "execution_count": 17,
   "id": "fed4f755",
   "metadata": {},
   "outputs": [
    {
     "data": {
      "text/plain": [
       "{'Walworth County': 51531,\n",
       " 'Marquette County': 9896,\n",
       " 'Racine County': 82164,\n",
       " 'Waupaca County': 25396,\n",
       " 'Lincoln County': 16784,\n",
       " 'Washburn County': 12979,\n",
       " 'Door County': 23966,\n",
       " 'Waukesha County': 160864,\n",
       " 'Sheboygan County': 50766,\n",
       " 'La Crosse County': 48402,\n",
       " 'Langlade County': 12360,\n",
       " 'Marathon County': 57734,\n",
       " 'Jefferson County': 35147,\n",
       " 'Price County': 11120,\n",
       " 'Vilas County': 25116,\n",
       " 'Columbia County': 26137,\n",
       " 'Ozaukee County': 36267,\n",
       " 'Fond du Lac County': 43910,\n",
       " 'Crawford County': 8802,\n",
       " 'Lafayette County': 7230,\n",
       " 'Green County': 15856,\n",
       " 'Marinette County': 30379,\n",
       " 'Vernon County': 13720,\n",
       " 'Douglas County': 22825,\n",
       " 'Rock County': 68422,\n",
       " 'Iowa County': 10719,\n",
       " 'Dane County': 216022,\n",
       " 'Bayfield County': 12999,\n",
       " 'Polk County': 24248,\n",
       " 'Trempealeau County': 12619,\n",
       " 'Brown County': 104371,\n",
       " 'Washington County': 54695,\n",
       " 'Chippewa County': 27185,\n",
       " 'Oconto County': 23537,\n",
       " 'Richland County': 8868,\n",
       " 'Portage County': 30054,\n",
       " 'Sawyer County': 15975,\n",
       " 'Menominee County': 2253,\n",
       " 'Barron County': 23614,\n",
       " 'Shawano County': 20720,\n",
       " 'Winnebago County': 73329,\n",
       " 'Rusk County': 8883,\n",
       " 'Manitowoc County': 37189,\n",
       " 'Dunn County': 17964,\n",
       " 'Monroe County': 19204,\n",
       " 'Waushara County': 14843,\n",
       " 'Forest County': 8970,\n",
       " 'Green Lake County': 10616,\n",
       " 'Juneau County': 14669,\n",
       " 'St. Croix County': 33983,\n",
       " 'Buffalo County': 6664,\n",
       " 'Kenosha County': 69288,\n",
       " 'Jackson County': 9727,\n",
       " 'Burnett County': 15278}"
      ]
     },
     "execution_count": 17,
     "metadata": {},
     "output_type": "execute_result"
    }
   ],
   "source": [
    "train.set_index('NAME').to_dict()['HU1001']"
   ]
  },
  {
   "cell_type": "code",
   "execution_count": 18,
   "id": "3abc5d3a",
   "metadata": {},
   "outputs": [
    {
     "data": {
      "text/plain": [
       "0.9652534544116037"
      ]
     },
     "execution_count": 18,
     "metadata": {},
     "output_type": "execute_result"
    }
   ],
   "source": [
    "model = LinearRegression()\n",
    "model.fit(train[['HU1001']], train['POP100'])\n",
    "scores = cross_val_score(model, train[[\"HU1001\"]], train[\"POP100\"])\n",
    "scores.mean()"
   ]
  },
  {
   "cell_type": "code",
   "execution_count": 19,
   "id": "dba20a98",
   "metadata": {},
   "outputs": [
    {
     "data": {
      "text/plain": [
       "0.03704265206670459"
      ]
     },
     "execution_count": 19,
     "metadata": {},
     "output_type": "execute_result"
    }
   ],
   "source": [
    "scores.std()"
   ]
  },
  {
   "cell_type": "code",
   "execution_count": 20,
   "id": "54b9717a",
   "metadata": {},
   "outputs": [
    {
     "data": {
      "text/plain": [
       "'POP100 = 2.39*HU100 + -7910.46'"
      ]
     },
     "execution_count": 20,
     "metadata": {},
     "output_type": "execute_result"
    }
   ],
   "source": [
    "f\"POP100 = {round(model.coef_[0], 2)}*HU100 + {round(model.intercept_, 2)}\""
   ]
  },
  {
   "cell_type": "code",
   "execution_count": 21,
   "id": "0915dab9",
   "metadata": {},
   "outputs": [
    {
     "name": "stderr",
     "output_type": "stream",
     "text": [
      "/home/ukmehta/.local/lib/python3.8/site-packages/sklearn/base.py:443: UserWarning: X has feature names, but LinearRegression was fitted without feature names\n",
      "  warnings.warn(\n"
     ]
    },
    {
     "data": {
      "image/png": "[encoded data removed]",
      "text/plain": [
       "<Figure size 432x288 with 1 Axes>"
      ]
     },
     "metadata": {
      "needs_background": "light"
     },
     "output_type": "display_data"
    }
   ],
   "source": [
    "POP100_list = counties_data['POP100'].tolist()\n",
    "HU100_list = counties_data['HU1001'].tolist()\n",
    "\n",
    "model.fit(train[['HU1001']].values, train['POP100'].values)\n",
    "predicted_df = pd.DataFrame({\"HU100\": HU100_list})\n",
    "predicted_df[\"PREDICTED POP100\"] = model.predict(predicted_df)\n",
    "\n",
    "actual_df = pd.DataFrame({'POP100': POP100_list, 'HU100': HU100_list})\n",
    "\n",
    "ax = predicted_df.plot.line(x=\"HU100\", y=\"PREDICTED POP100\", color=\"red\", label='Predicted')\n",
    "plt1 = actual_df.plot.scatter(x=\"HU100\", y=\"POP100\", ax=ax, color=\"royalblue\", label='Actual')\n",
    "\n",
    "index = counties_data.index[counties_data['NAME']=='Dane County'].tolist()[0]\n",
    "plt1.text(counties_data.loc[index, 'HU1001'], counties_data.loc[index, 'POP100'], \"Dane\")\n",
    "None"
   ]
  },
  {
   "cell_type": "code",
   "execution_count": 22,
   "id": "2943c9ca",
   "metadata": {},
   "outputs": [
    {
     "data": {
      "text/plain": [
       "12"
      ]
     },
     "execution_count": 22,
     "metadata": {},
     "output_type": "execute_result"
    }
   ],
   "source": [
    "A = np.array([\n",
    "    [0,0,5,8,4],\n",
    "    [1,2,4,0,3],\n",
    "    [2,4,0,9,2],\n",
    "    [3,5,2,1,1],\n",
    "    [0,5,0,1,0]\n",
    "])\n",
    "values = (A >= 2) & (A <= 5).astype(int)\n",
    "values.sum()"
   ]
  },
  {
   "cell_type": "code",
   "execution_count": 23,
   "id": "981ad691",
   "metadata": {},
   "outputs": [],
   "source": [
    "land = rasterio.open(\"zip://../p6/land.zip!wi.tif\")"
   ]
  },
  {
   "cell_type": "code",
   "execution_count": 24,
   "id": "554a0ce5",
   "metadata": {},
   "outputs": [],
   "source": [
    "milwaukee = counties_data[counties_data['NAME'] == 'Milwaukee County']\n",
    "matrix, _ = mask(land, milwaukee.to_crs(land.crs)[\"geometry\"], crop=True)\n",
    "matrix = matrix[0]"
   ]
  },
  {
   "cell_type": "code",
   "execution_count": 25,
   "id": "c7111419",
   "metadata": {},
   "outputs": [],
   "source": [
    "c = np.zeros((256,3))\n",
    "c[0] = [0.00000000000, 0.00000000000, 0.00000000000]\n",
    "c[11] = [0.27843137255, 0.41960784314, 0.62745098039]\n",
    "c[12] = [0.81960784314, 0.86666666667, 0.97647058824]\n",
    "c[21] = [0.86666666667, 0.78823529412, 0.78823529412]\n",
    "c[22] = [0.84705882353, 0.57647058824, 0.50980392157]\n",
    "c[23] = [0.92941176471, 0.00000000000, 0.00000000000]\n",
    "c[24] = [0.66666666667, 0.00000000000, 0.00000000000]\n",
    "c[31] = [0.69803921569, 0.67843137255, 0.63921568628]\n",
    "c[41] = [0.40784313726, 0.66666666667, 0.38823529412]\n",
    "c[42] = [0.10980392157, 0.38823529412, 0.18823529412]\n",
    "c[43] = [0.70980392157, 0.78823529412, 0.55686274510]\n",
    "c[51] = [0.64705882353, 0.54901960784, 0.18823529412]\n",
    "c[52] = [0.80000000000, 0.72941176471, 0.48627450980]\n",
    "c[71] = [0.88627450980, 0.88627450980, 0.75686274510]\n",
    "c[72] = [0.78823529412, 0.78823529412, 0.46666666667]\n",
    "c[73] = [0.60000000000, 0.75686274510, 0.27843137255]\n",
    "c[74] = [0.46666666667, 0.67843137255, 0.57647058824]\n",
    "c[81] = [0.85882352941, 0.84705882353, 0.23921568628]\n",
    "c[82] = [0.66666666667, 0.43921568628, 0.15686274510]\n",
    "c[90] = [0.72941176471, 0.84705882353, 0.91764705882]\n",
    "c[95] = [0.43921568628, 0.63921568628, 0.72941176471]\n",
    "custom_cmap = ListedColormap(c)"
   ]
  },
  {
   "cell_type": "code",
   "execution_count": 26,
   "id": "a5ed68c1",
   "metadata": {},
   "outputs": [
    {
     "data": {
      "image/png": "[encoded data removed]",
      "text/plain": [
       "<Figure size 864x864 with 1 Axes>"
      ]
     },
     "metadata": {
      "needs_background": "light"
     },
     "output_type": "display_data"
    }
   ],
   "source": [
    "fig, ax = plt.subplots(figsize=(12,12))\n",
    "ax.imshow(matrix, vmin=0, vmax=255, cmap=custom_cmap)\n",
    "None"
   ]
  },
  {
   "cell_type": "code",
   "execution_count": 27,
   "id": "62ab7eea",
   "metadata": {},
   "outputs": [
    {
     "data": {
      "text/plain": [
       "0.7963037455950543"
      ]
     },
     "execution_count": 27,
     "metadata": {},
     "output_type": "execute_result"
    }
   ],
   "source": [
    "open_water = (matrix == 11).astype(int).sum()\n",
    "milwaukee_county = (matrix != 0).astype(int).sum()\n",
    "open_water / milwaukee_county"
   ]
  },
  {
   "cell_type": "code",
   "execution_count": 28,
   "id": "5b972331",
   "metadata": {},
   "outputs": [
    {
     "data": {
      "image/png": "[encoded data removed]",
      "text/plain": [
       "<Figure size 432x288 with 1 Axes>"
      ]
     },
     "metadata": {
      "needs_background": "light"
     },
     "output_type": "display_data"
    }
   ],
   "source": [
    "wetland_count_list = []\n",
    "for row in counties_data[['NAME']].itertuples():\n",
    "    county = counties_data[counties_data['NAME'] == row[1]]\n",
    "    woody_matrix, _ = mask(land, county.to_crs(land.crs)[\"geometry\"], crop=True)\n",
    "    woody_matrix = woody_matrix[0]\n",
    "    woody_wetlands = (woody_matrix == 90).astype(int).sum()\n",
    "    wetland_count_list.append(woody_wetlands)\n",
    "\n",
    "df_to_graph = pd.DataFrame({'POP': POP100_list, 'Woody Wetlands': wetland_count_list})\n",
    "df_to_graph.plot.scatter(x=\"Woody Wetlands\", y=\"POP\", color=\"royalblue\")\n",
    "None"
   ]
  },
  {
   "cell_type": "code",
   "execution_count": 29,
   "id": "f06dca61",
   "metadata": {},
   "outputs": [],
   "source": [
    "tracts_data = gpd.read_file(\"tracts.geojson\")"
   ]
  },
  {
   "cell_type": "code",
   "execution_count": 30,
   "id": "792fb763",
   "metadata": {},
   "outputs": [],
   "source": [
    "developed_medium_list = []\n",
    "developed_high_list = []\n",
    "\n",
    "for rows in tracts_data.itertuples():\n",
    "    row = tracts_data.loc[[rows.Index]]\n",
    "    matrices, _ = mask(land, row.to_crs(land.crs)['geometry'], crop=True)\n",
    "    matrices = matrices[0]\n",
    "    medium = np.count_nonzero(matrices == 23)\n",
    "    developed_medium_list.append(medium)\n",
    "    high = np.count_nonzero(matrices == 24)\n",
    "    developed_high_list.append(high)\n",
    "    \n",
    "tracts_data['DEVELOPED_MEDIUM'] = developed_medium_list\n",
    "tracts_data['DEVELOPED_HIGH'] = developed_high_list"
   ]
  },
  {
   "cell_type": "code",
   "execution_count": 31,
   "id": "a199d8cd",
   "metadata": {},
   "outputs": [],
   "source": [
    "train, test = train_test_split(tracts_data, random_state=320)"
   ]
  },
  {
   "cell_type": "code",
   "execution_count": 32,
   "id": "621f299a",
   "metadata": {},
   "outputs": [],
   "source": [
    "model1 = LinearRegression()\n",
    "model2 = LinearRegression()\n",
    "scores1 = cross_val_score(model1, train[[\"POP100\"]], train[\"DEVELOPED_MEDIUM\"])\n",
    "scores2 = cross_val_score(model2, train[[\"POP100\"]], train[\"DEVELOPED_HIGH\"])"
   ]
  },
  {
   "cell_type": "code",
   "execution_count": 33,
   "id": "35834d43",
   "metadata": {},
   "outputs": [
    {
     "data": {
      "image/png": "[encoded data removed]",
      "text/plain": [
       "<Figure size 432x288 with 1 Axes>"
      ]
     },
     "metadata": {
      "needs_background": "light"
     },
     "output_type": "display_data"
    }
   ],
   "source": [
    "avg = pd.Series({\"Developed_Medium Model\": scores1.mean(), \"Developed_High Model\": scores2.mean()})\n",
    "std = pd.Series({\"Developed_Medium Model\": scores1.std(), \"Developed_High Model\": scores2.std()})\n",
    "ax = avg.plot.bar(yerr=std)\n",
    "ax.set_ylabel(\"R^2 Score\")\n",
    "None"
   ]
  },
  {
   "cell_type": "code",
   "execution_count": 34,
   "id": "609d12ae",
   "metadata": {},
   "outputs": [
    {
     "data": {
      "text/plain": [
       "\"I would recommend the Developed_Medium Model -- Model1 -- for this prediction\\ntask because, even though the standard deviation is pretty much the same as other models,\\nthe cross vaidation scores are relatively high. And it's a simple enough model;\\nthere is no extravagant function or equation that is being used.\""
      ]
     },
     "execution_count": 34,
     "metadata": {},
     "output_type": "execute_result"
    }
   ],
   "source": [
    "'''I would recommend the Developed_Medium Model -- Model1 -- for this prediction\n",
    "task because, even though the standard deviation is pretty much the same as other models,\n",
    "the cross vaidation scores are relatively high. And it's a simple enough model;\n",
    "there is no extravagant function or equation that is being used.'''"
   ]
  },
  {
   "cell_type": "code",
   "execution_count": 35,
   "id": "04daeebf",
   "metadata": {},
   "outputs": [
    {
     "data": {
      "text/plain": [
       "0.3526398527257435"
      ]
     },
     "execution_count": 35,
     "metadata": {},
     "output_type": "execute_result"
    }
   ],
   "source": [
    "model1.fit(train[['POP100']], train['DEVELOPED_MEDIUM'])\n",
    "model1.score(test[['POP100']], test['DEVELOPED_MEDIUM'])"
   ]
  },
  {
   "cell_type": "code",
   "execution_count": null,
   "id": "0db29482",
   "metadata": {},
   "outputs": [],
   "source": []
  },
  {
   "cell_type": "code",
   "execution_count": null,
   "id": "a5b92244",
   "metadata": {},
   "outputs": [],
   "source": []
  }
 ],
 "metadata": {
  "kernelspec": {
   "display_name": "Python 3",
   "language": "python",
   "name": "python3"
  },
  "language_info": {
   "codemirror_mode": {
    "name": "ipython",
    "version": 3
   },
   "file_extension": ".py",
   "mimetype": "text/x-python",
   "name": "python",
   "nbconvert_exporter": "python",
   "pygments_lexer": "ipython3",
   "version": "3.8.8"
  }
 },
 "nbformat": 4,
 "nbformat_minor": 5
}
